{
 "cells": [
  {
   "cell_type": "markdown",
   "metadata": {},
   "source": [
    "*** Vertical Calender ***"
   ]
  },
  {
   "cell_type": "code",
   "execution_count": 1,
   "metadata": {},
   "outputs": [],
   "source": [
    "def is_leap_year(year):\n",
    "    return (year%100!=0 and year%4==0) or year%400==0\n",
    "\n",
    "def days_in_month(month , year=1990):\n",
    "    if month==2:\n",
    "        return 28+int(is_leap_year(year))        \n",
    "    elif (month<8 and month%2!=0) or (month>=8 and month%2==0):\n",
    "        return 31\n",
    "    else:\n",
    "        return 30\n",
    "\n",
    "\n",
    "def date_value(day ,month, year):\n",
    "    value=0\n",
    "    y=year-1\n",
    "    # total days elapsed till the end of previous year\n",
    "    value = y * 365 + y//4  - y//100 + y//400\n",
    "\n",
    "    # add total days passed till previous month of this year\n",
    "    m=1\n",
    "    while m<month:\n",
    "        #print(f'Adding {days_in_month(m,year)} for {m}/{year}')\n",
    "        value+= days_in_month(m,year)\n",
    "        m+=1\n",
    "\n",
    "    #add days of this month\n",
    "    value+=day\n",
    "    return value\n",
    "\n",
    "def date_to_week_day(date,month,year):\n",
    "    ref_date = date_value(1,1,2006)\n",
    "    input_date= date_value(date,month,year)\n",
    "    diff= (input_date-ref_date) % 7\n",
    "    return diff"
   ]
  }
 ],
 "metadata": {
  "kernelspec": {
   "display_name": "Python 3",
   "language": "python",
   "name": "python3"
  },
  "language_info": {
   "codemirror_mode": {
    "name": "ipython",
    "version": 3
   },
   "file_extension": ".py",
   "mimetype": "text/x-python",
   "name": "python",
   "nbconvert_exporter": "python",
   "pygments_lexer": "ipython3",
   "version": "3.11.5"
  },
  "orig_nbformat": 4
 },
 "nbformat": 4,
 "nbformat_minor": 2
}
