{
 "cells": [
  {
   "cell_type": "markdown",
   "metadata": {},
   "source": [
    "```\n",
    "Assignment 12.1 \n",
    "\n",
    "created a decorator @cached \n",
    "\n",
    "it should returnt he result from a cache for a repeat parameter \n",
    "\n",
    " \n",
    " \n",
    "\n",
    "@cached@performance_montiordeffactorial(n): \n",
    "    fn=1foriinrange(1,n+1): \n",
    "        time.sleep(0.5) \n",
    "        fn*=ireturnfnr1=factorial(5) #calculate result and cache it. takes 2.5 secondsr2=factorial(7) #calculate result and cache it. takes 3.5 secondsr3=factorial(5) #return result from cache. don't recalculate. returns immediately no dealy \n",
    "\n",
    " \n",
    "```"
   ]
  },
  {
   "cell_type": "code",
   "execution_count": 1,
   "metadata": {},
   "outputs": [
    {
     "name": "stdout",
     "output_type": "stream",
     "text": [
      "****************************************************************************************************\n",
      "not in the cache\n",
      "factorial of 1: 1\n",
      "this factorial takes 0.0 sec\n",
      "1\n",
      "****************************************************************************************************\n",
      "not in the cache\n",
      "factorial of 2: 2\n",
      "this factorial takes 0.0 sec\n",
      "2\n",
      "****************************************************************************************************\n",
      "not in the cache\n",
      "factorial of 3: 6\n",
      "this factorial takes 0.0 sec\n",
      "6\n",
      "****************************************************************************************************\n",
      "not in the cache\n",
      "factorial of 4: 24\n",
      "this factorial takes 0.0 sec\n",
      "24\n",
      "****************************************************************************************************\n",
      "factorial of 4 alredy in the cache\n",
      "24\n"
     ]
    },
    {
     "data": {
      "text/plain": [
       "24"
      ]
     },
     "execution_count": 1,
     "metadata": {},
     "output_type": "execute_result"
    }
   ],
   "source": [
    "import time\n",
    "\n",
    "def cached(fun):\n",
    "    fact_dict = dict()\n",
    "    def inner(x):\n",
    "        if x in fact_dict.keys():\n",
    "            print(\"**\"*50)\n",
    "            print(f'factorial of {x} alredy in the cache')\n",
    "            print(fact_dict[x])\n",
    "            return fact_dict[x]\n",
    "        else:\n",
    "            print(\"**\"*50)\n",
    "            print(\"not in the cache\")\n",
    "            result = fun(x)\n",
    "            print(result)\n",
    "            fact_dict[x] = result\n",
    "            return result\n",
    "    return inner\n",
    "\n",
    "def performance_log(fun):\n",
    "    def inner(num):\n",
    "        start = time.time()\n",
    "        result = fun(num)\n",
    "        end = time.time()\n",
    "        print(f'factorial of {num}: {result}')\n",
    "        print(f'this {fun.__name__} takes {end-start} sec')\n",
    "        return result\n",
    "    return inner\n",
    "\n",
    "@cached\n",
    "@performance_log\n",
    "def factorial(x):\n",
    "    fact = 1\n",
    "    for i in range(1, x + 1):\n",
    "        fact = fact * i\n",
    "    return fact\n",
    "\n",
    "for i in range(1,5):\n",
    "    factorial(i)\n",
    "factorial(4)\n",
    "\n",
    "\n",
    "#cached(performane_log(factorial))"
   ]
  },
  {
   "cell_type": "markdown",
   "metadata": {},
   "source": [
    "12.2"
   ]
  },
  {
   "cell_type": "code",
   "execution_count": 15,
   "metadata": {},
   "outputs": [],
   "source": [
    "users = dict()\n",
    "users[\"Harsha\"]=\"H@123\"\n",
    "users[\"Sow\"]=\"S@123\"\n",
    "users[\"Shree\"]=\"Y@123\"\n",
    "\n",
    "def supress_exception(exception, result):\n",
    "    def inner(func):\n",
    "        def wrapper(*args):\n",
    "            try:\n",
    "                if exception != KeyError:\n",
    "                    return func(*args)\n",
    "                else:\n",
    "                    raise exception\n",
    "            except exception:\n",
    "                return result\n",
    "        return wrapper\n",
    "    return inner\n",
    "        \n",
    "\n",
    "@supress_exception(exception=KeyError, result=False)\n",
    "def authenticate(user,password):\n",
    "    print(f'authenticating {user}')\n",
    "    return users[user]==password\n",
    "\n",
    "# supress_exception(authenticate)"
   ]
  },
  {
   "cell_type": "code",
   "execution_count": 16,
   "metadata": {},
   "outputs": [
    {
     "name": "stdout",
     "output_type": "stream",
     "text": [
      "False\n",
      "False\n"
     ]
    }
   ],
   "source": [
    "print(authenticate(\"Harsha\", \"H@123\"))\n",
    "print(authenticate(\"Harsha\", \"H@1223\"))\n"
   ]
  }
 ],
 "metadata": {
  "kernelspec": {
   "display_name": "Python 3",
   "language": "python",
   "name": "python3"
  },
  "language_info": {
   "codemirror_mode": {
    "name": "ipython",
    "version": 3
   },
   "file_extension": ".py",
   "mimetype": "text/x-python",
   "name": "python",
   "nbconvert_exporter": "python",
   "pygments_lexer": "ipython3",
   "version": "3.11.5"
  },
  "orig_nbformat": 4
 },
 "nbformat": 4,
 "nbformat_minor": 2
}
