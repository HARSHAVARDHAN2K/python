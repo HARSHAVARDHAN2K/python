{
 "cells": [
  {
   "cell_type": "code",
   "execution_count": 4,
   "metadata": {},
   "outputs": [
    {
     "name": "stdout",
     "output_type": "stream",
     "text": [
      "6\n",
      "factorial takes 0.0sec\n"
     ]
    }
   ],
   "source": [
    "import time\n",
    "\n",
    "def cached():\n",
    "    print()\n",
    "\n",
    "\n",
    "\n",
    "def performance_log(fun):\n",
    "    def inner(num):\n",
    "        start = time.time()\n",
    "        result = fun(num)\n",
    "        end = time.time()\n",
    "        print(result)\n",
    "        print(f'{fun.__name__} takes {end-start}sec')\n",
    "    return inner\n",
    "\n",
    "@cached\n",
    "@performance_log\n",
    "def factorial(x):\n",
    "    if x==0 or x==1:\n",
    "        return 1\n",
    "    else:\n",
    "        return x*(x-1)\n",
    "    \n",
    "factorial(3)"
   ]
  }
 ],
 "metadata": {
  "kernelspec": {
   "display_name": "Python 3",
   "language": "python",
   "name": "python3"
  },
  "language_info": {
   "codemirror_mode": {
    "name": "ipython",
    "version": 3
   },
   "file_extension": ".py",
   "mimetype": "text/x-python",
   "name": "python",
   "nbconvert_exporter": "python",
   "pygments_lexer": "ipython3",
   "version": "3.11.5"
  },
  "orig_nbformat": 4
 },
 "nbformat": 4,
 "nbformat_minor": 2
}
