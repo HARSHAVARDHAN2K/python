{
 "cells": [
  {
   "cell_type": "code",
   "execution_count": 43,
   "metadata": {},
   "outputs": [
    {
     "name": "stdout",
     "output_type": "stream",
     "text": [
      "****************************************************************************************************\n",
      "not in the cache\n",
      "factorial of 1: 1\n",
      "this factorial takes 0.0 sec\n",
      "1\n",
      "****************************************************************************************************\n",
      "not in the cache\n",
      "factorial of 2: 2\n",
      "this factorial takes 0.0 sec\n",
      "2\n",
      "****************************************************************************************************\n",
      "not in the cache\n",
      "factorial of 3: 6\n",
      "this factorial takes 0.0 sec\n",
      "6\n",
      "****************************************************************************************************\n",
      "not in the cache\n",
      "factorial of 4: 24\n",
      "this factorial takes 0.0 sec\n",
      "24\n",
      "****************************************************************************************************\n",
      "factorial of 4 alredy in the cache\n",
      "24\n"
     ]
    },
    {
     "data": {
      "text/plain": [
       "24"
      ]
     },
     "execution_count": 43,
     "metadata": {},
     "output_type": "execute_result"
    }
   ],
   "source": [
    "import time\n",
    "\n",
    "def cached(fun):\n",
    "    fact_dict = dict()\n",
    "    def inner(x):\n",
    "        if x in fact_dict.keys():\n",
    "            print(\"**\"*50)\n",
    "            print(f'factorial of {x} alredy in the cache')\n",
    "            print(fact_dict[x])\n",
    "            return fact_dict[x]\n",
    "        else:\n",
    "            print(\"**\"*50)\n",
    "            print(\"not in the cache\")\n",
    "            result = fun(x)\n",
    "            print(result)\n",
    "            fact_dict[x] = result\n",
    "            return result\n",
    "    return inner\n",
    "\n",
    "def performance_log(fun):\n",
    "    def inner(num):\n",
    "        start = time.time()\n",
    "        result = fun(num)\n",
    "        end = time.time()\n",
    "        print(f'factorial of {num}: {result}')\n",
    "        print(f'this {fun.__name__} takes {end-start} sec')\n",
    "        return result\n",
    "    return inner\n",
    "\n",
    "@cached\n",
    "@performance_log\n",
    "def factorial(x):\n",
    "    fact = 1\n",
    "    for i in range(1, x + 1):\n",
    "        fact = fact * i\n",
    "    return fact\n",
    "\n",
    "for i in range(1,5):\n",
    "    factorial(i)\n",
    "factorial(4)\n",
    "\n",
    "\n",
    "#cached(performane_log(cached))"
   ]
  }
 ],
 "metadata": {
  "kernelspec": {
   "display_name": "Python 3",
   "language": "python",
   "name": "python3"
  },
  "language_info": {
   "codemirror_mode": {
    "name": "ipython",
    "version": 3
   },
   "file_extension": ".py",
   "mimetype": "text/x-python",
   "name": "python",
   "nbconvert_exporter": "python",
   "pygments_lexer": "ipython3",
   "version": "3.11.5"
  },
  "orig_nbformat": 4
 },
 "nbformat": 4,
 "nbformat_minor": 2
}
