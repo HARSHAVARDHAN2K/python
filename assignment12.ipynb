{
 "cells": [
  {
   "cell_type": "code",
   "execution_count": 17,
   "metadata": {},
   "outputs": [
    {
     "name": "stdout",
     "output_type": "stream",
     "text": [
      "93326215443944152681699238856266700490715968264381621468592963895217599993229915608941463976156518286253697920827223758251185210916864000000000000000000000000\n",
      "this function takes 0.0 sec\n"
     ]
    }
   ],
   "source": [
    "import time\n",
    "\n",
    "def cached(fun):\n",
    "    fact_dict = dict()\n",
    "    def inner(x):\n",
    "        if x in fact_dict.keys():\n",
    "            return fact_dict[x]\n",
    "        else:\n",
    "            result = fun(x)\n",
    "            fact_dict[x] = result\n",
    "            return result\n",
    "    return inner\n",
    "\n",
    "def performance_log(fun):\n",
    "    def inner(num):\n",
    "        start = time.time()\n",
    "        result = fun(num)\n",
    "        end = time.time()\n",
    "        print(result)\n",
    "        print(f'this function takes {end-start} sec')\n",
    "    return inner\n",
    "\n",
    "@cached\n",
    "@performance_log\n",
    "def factorial(x):\n",
    "    fact = 1\n",
    "    for i in range(1, x + 1):\n",
    "        fact = fact * i\n",
    "    return fact\n",
    "\n",
    "factorial(100)"
   ]
  }
 ],
 "metadata": {
  "kernelspec": {
   "display_name": "Python 3",
   "language": "python",
   "name": "python3"
  },
  "language_info": {
   "codemirror_mode": {
    "name": "ipython",
    "version": 3
   },
   "file_extension": ".py",
   "mimetype": "text/x-python",
   "name": "python",
   "nbconvert_exporter": "python",
   "pygments_lexer": "ipython3",
   "version": "3.11.5"
  },
  "orig_nbformat": 4
 },
 "nbformat": 4,
 "nbformat_minor": 2
}
