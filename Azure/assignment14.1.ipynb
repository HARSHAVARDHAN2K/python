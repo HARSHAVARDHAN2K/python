{
    "metadata": {
        "kernelspec": {
            "name": "SQL",
            "display_name": "SQL",
            "language": "sql"
        },
        "language_info": {
            "name": "sql",
            "version": ""
        }
    },
    "nbformat_minor": 2,
    "nbformat": 4,
    "cells": [
        {
            "cell_type": "markdown",
            "source": [
                "<span data-contrast=\"none\" class=\"TextRun SCXO62445878 BCX0\" xml:lang=\"EN-US\" lang=\"EN-US\" style=\"margin: 0px; padding: 0px; user-select: text; -webkit-user-drag: none; -webkit-tap-highlight-color: transparent; background-color: transparent; font-size: 16pt; font-family: Calibri, sans-serif; line-height: 26px; font-variant-ligatures: none !important;\">Assignment 14.1</span> \n",
                "\n",
                "- <span data-contrast=\"auto\" class=\"TextRun SCXO62445878 BCX0\" xml:lang=\"EN-US\" lang=\"EN-US\" style=\"margin: 0px; padding: 0px; user-select: text; -webkit-user-drag: none; -webkit-tap-highlight-color: transparent; color: windowtext; background-color: transparent; font-size: 11pt; line-height: 18px; font-variant-ligatures: none !important;\">Implement the Tables for following design</span> \n",
                "    \n",
                "\n",
                "1. <span data-contrast=\"auto\" class=\"TextRun SCXO62445878 BCX0\" xml:lang=\"EN-US\" lang=\"EN-US\" style=\"margin: 0px; padding: 0px; user-select: text; -webkit-user-drag: none; -webkit-tap-highlight-color: transparent; color: windowtext; background-color: transparent; font-size: 11pt; line-height: 18px; font-variant-ligatures: none !important;\">A book can have multiple associated ISBN</span> \n",
                "    \n",
                "    - <span data-contrast=\"auto\" class=\"TextRun SCXO62445878 BCX0\" xml:lang=\"EN-US\" lang=\"EN-US\" style=\"margin: 0px; padding: 0px; user-select: text; -webkit-user-drag: none; -webkit-tap-highlight-color: transparent; color: windowtext; background-color: transparent; font-size: 11pt; line-height: 18px; font-variant-ligatures: none !important;\">Each ISBN represents</span> \n",
                "        \n",
                "        - <span data-contrast=\"auto\" class=\"TextRun SCXO62445878 BCX0\" xml:lang=\"EN-US\" lang=\"EN-US\" style=\"margin: 0px; padding: 0px; user-select: text; -webkit-user-drag: none; -webkit-tap-highlight-color: transparent; color: windowtext; background-color: transparent; font-size: 11pt; line-height: 18px; font-variant-ligatures: none !important;\">format (paperback/ebook/audiobook/hardbound)</span> \n",
                "            \n",
                "        - <span data-contrast=\"auto\" class=\"TextRun SCXO62445878 BCX0\" xml:lang=\"EN-US\" lang=\"EN-US\" style=\"margin: 0px; padding: 0px; user-select: text; -webkit-user-drag: none; -webkit-tap-highlight-color: transparent; color: windowtext; background-color: transparent; font-size: 11pt; line-height: 18px; font-variant-ligatures: none !important;\">price</span> \n",
                "            \n",
                "        - <span data-contrast=\"auto\" class=\"TextRun SCXO62445878 BCX0\" xml:lang=\"EN-US\" lang=\"EN-US\" style=\"margin: 0px; padding: 0px; user-select: text; -webkit-user-drag: none; -webkit-tap-highlight-color: transparent; color: windowtext; background-color: transparent; font-size: 11pt; line-height: 18px; font-variant-ligatures: none !important;\">cover</span> \n",
                "            \n",
                "        - <span data-contrast=\"auto\" class=\"TextRun SCXO62445878 BCX0\" xml:lang=\"EN-US\" lang=\"EN-US\" style=\"margin: 0px; padding: 0px; user-select: text; -webkit-user-drag: none; -webkit-tap-highlight-color: transparent; color: windowtext; background-color: transparent; font-size: 11pt; line-height: 18px; font-variant-ligatures: none !important;\">publisher</span> \n",
                "            \n",
                "            - <span data-contrast=\"auto\" class=\"TextRun SCXO62445878 BCX0\" xml:lang=\"EN-US\" lang=\"EN-US\" style=\"margin: 0px; padding: 0px; user-select: text; -webkit-user-drag: none; -webkit-tap-highlight-color: transparent; color: windowtext; background-color: transparent; font-size: 11pt; line-height: 18px; font-variant-ligatures: none !important;\">name</span> \n",
                "                \n",
                "            - <span data-contrast=\"auto\" class=\"TextRun SCXO62445878 BCX0\" xml:lang=\"EN-US\" lang=\"EN-US\" style=\"margin: 0px; padding: 0px; user-select: text; -webkit-user-drag: none; -webkit-tap-highlight-color: transparent; color: windowtext; background-color: transparent; font-size: 11pt; line-height: 18px; font-variant-ligatures: none !important;\">address</span> \n",
                "                \n",
                "            - <span data-contrast=\"auto\" class=\"TextRun SCXO62445878 BCX0\" xml:lang=\"EN-US\" lang=\"EN-US\" style=\"margin: 0px; padding: 0px; user-select: text; -webkit-user-drag: none; -webkit-tap-highlight-color: transparent; color: windowtext; background-color: transparent; font-size: 11pt; line-height: 18px; font-variant-ligatures: none !important;\">website</span> \n",
                "                \n",
                "\n",
                "2. <span data-contrast=\"auto\" class=\"TextRun SCXO62445878 BCX0\" xml:lang=\"EN-US\" lang=\"EN-US\" style=\"margin: 0px; padding: 0px; user-select: text; -webkit-user-drag: none; -webkit-tap-highlight-color: transparent; color: windowtext; background-color: transparent; font-size: 11pt; line-height: 18px; font-variant-ligatures: none !important;\">Reviews and Reviewers</span> \n",
                "    \n",
                "    - <span data-contrast=\"auto\" class=\"TextRun SCXO62445878 BCX0\" xml:lang=\"EN-US\" lang=\"EN-US\" style=\"margin: 0px; padding: 0px; user-select: text; -webkit-user-drag: none; -webkit-tap-highlight-color: transparent; color: windowtext; background-color: transparent; font-size: 11pt; line-height: 18px; font-variant-ligatures: none !important;\">A reviewer will have</span> \n",
                "        \n",
                "        - <span data-contrast=\"auto\" class=\"TextRun SCXO62445878 BCX0\" xml:lang=\"EN-US\" lang=\"EN-US\" style=\"margin: 0px; padding: 0px; user-select: text; -webkit-user-drag: none; -webkit-tap-highlight-color: transparent; color: windowtext; background-color: transparent; font-size: 11pt; line-height: 18px; font-variant-ligatures: none !important;\">name</span> \n",
                "            \n",
                "        - <span data-contrast=\"auto\" class=\"TextRun SCXO62445878 BCX0\" xml:lang=\"EN-US\" lang=\"EN-US\" style=\"margin: 0px; padding: 0px; user-select: text; -webkit-user-drag: none; -webkit-tap-highlight-color: transparent; color: windowtext; background-color: transparent; font-size: 11pt; line-height: 18px; font-variant-ligatures: none !important;\">email</span> \n",
                "            \n",
                "    - <span data-contrast=\"auto\" class=\"TextRun SCXO62445878 BCX0\" xml:lang=\"EN-US\" lang=\"EN-US\" style=\"margin: 0px; padding: 0px; user-select: text; -webkit-user-drag: none; -webkit-tap-highlight-color: transparent; color: windowtext; background-color: transparent; font-size: 11pt; line-height: 18px; font-variant-ligatures: none !important;\">A reviewer can review one or more books</span> \n",
                "        \n",
                "\n",
                "- <span data-contrast=\"auto\" class=\"TextRun SCXO62445878 BCX0\" xml:lang=\"EN-US\" lang=\"EN-US\" style=\"margin: 0px; padding: 0px; user-select: text; -webkit-user-drag: none; -webkit-tap-highlight-color: transparent; color: windowtext; background-color: transparent; font-size: 11pt; line-height: 18px; font-variant-ligatures: none !important;\">each review will be about a book and should include</span> \n",
                "    \n",
                "    - <span data-contrast=\"auto\" class=\"TextRun SCXO62445878 BCX0\" xml:lang=\"EN-US\" lang=\"EN-US\" style=\"margin: 0px; padding: 0px; user-select: text; -webkit-user-drag: none; -webkit-tap-highlight-color: transparent; color: windowtext; background-color: transparent; font-size: 11pt; line-height: 18px; font-variant-ligatures: none !important;\">title&nbsp;</span>  \n",
                "        \n",
                "    - <span data-contrast=\"auto\" class=\"TextRun SCXO62445878 BCX0\" xml:lang=\"EN-US\" lang=\"EN-US\" style=\"margin: 0px; padding: 0px; user-select: text; -webkit-user-drag: none; -webkit-tap-highlight-color: transparent; color: windowtext; background-color: transparent; font-size: 11pt; line-height: 18px; font-variant-ligatures: none !important;\">details</span> \n",
                "        \n",
                "    - <span data-contrast=\"auto\" class=\"TextRun SCXO62445878 BCX0\" xml:lang=\"EN-US\" lang=\"EN-US\" style=\"margin: 0px; padding: 0px; user-select: text; -webkit-user-drag: none; -webkit-tap-highlight-color: transparent; color: windowtext; background-color: transparent; font-size: 11pt; line-height: 18px; font-variant-ligatures: none !important;\">rating [1-5]</span> \n",
                "        \n",
                "\n",
                "- <span data-contrast=\"auto\" class=\"TextRun SCXO62445878 BCX0\" xml:lang=\"EN-US\" lang=\"EN-US\" style=\"margin: 0px; padding: 0px; user-select: text; -webkit-user-drag: none; -webkit-tap-highlight-color: transparent; color: windowtext; background-color: transparent; font-size: 11pt; line-height: 18px; font-variant-ligatures: none !important;\">Create the diagram</span> \n",
                "    \n",
                "- <span data-contrast=\"auto\" class=\"TextRun SCXO62445878 BCX0\" xml:lang=\"EN-US\" lang=\"EN-US\" style=\"margin: 0px; padding: 0px; user-select: text; -webkit-user-drag: none; -webkit-tap-highlight-color: transparent; color: windowtext; background-color: transparent; font-size: 11pt; line-height: 18px; font-variant-ligatures: none !important;\">Create the table</span> \n",
                "    \n",
                "- <span data-contrast=\"auto\" class=\"TextRun SCXO62445878 BCX0\" xml:lang=\"EN-US\" lang=\"EN-US\" style=\"margin: 0px; padding: 0px; user-select: text; -webkit-user-drag: none; -webkit-tap-highlight-color: transparent; color: windowtext; background-color: transparent; font-size: 11pt; line-height: 18px; font-variant-ligatures: none !important;\">Add some realistic dummy&nbsp; data</span>"
            ],
            "metadata": {
                "azdata_cell_guid": "cdc4a288-7d9f-43f6-b55d-a897ba228aca"
            },
            "attachments": {}
        },
        {
            "cell_type": "code",
            "source": [
                "create database assinment14;"
            ],
            "metadata": {
                "azdata_cell_guid": "b044b5b5-7ea9-43e4-840e-4e2cc1e4b784",
                "language": "sql"
            },
            "outputs": [
                {
                    "output_type": "display_data",
                    "data": {
                        "text/html": "Commands completed successfully."
                    },
                    "metadata": {}
                },
                {
                    "output_type": "display_data",
                    "data": {
                        "text/html": "Total execution time: 00:00:00.668"
                    },
                    "metadata": {}
                }
            ],
            "execution_count": 1
        },
        {
            "cell_type": "code",
            "source": [
                "use assinment14;"
            ],
            "metadata": {
                "azdata_cell_guid": "5d9f4d65-4932-4835-8d57-ac4af56ecf19",
                "language": "sql"
            },
            "outputs": [
                {
                    "output_type": "display_data",
                    "data": {
                        "text/html": "Commands completed successfully."
                    },
                    "metadata": {}
                },
                {
                    "output_type": "display_data",
                    "data": {
                        "text/html": "Total execution time: 00:00:00.283"
                    },
                    "metadata": {}
                }
            ],
            "execution_count": 2
        },
        {
            "cell_type": "code",
            "source": [
                "    CREATE TABLE BOOK(\r\n",
                "        ISBN VARCHAR(13) PRIMARY KEY,\r\n",
                "        FORMAT VARCHAR,\r\n",
                "        PRICE INT NOT NULL,\r\n",
                "        NAME VARCHAR NOT NULL\r\n",
                "    )"
            ],
            "metadata": {
                "language": "sql",
                "azdata_cell_guid": "11846607-fc66-412f-9054-57b4c6dd127d",
                "tags": []
            },
            "outputs": [
                {
                    "output_type": "error",
                    "evalue": "Msg 2714, Level 16, State 6, Line 1\r\nThere is already an object named 'BOOK' in the database.",
                    "ename": "",
                    "traceback": []
                },
                {
                    "output_type": "display_data",
                    "data": {
                        "text/html": "Total execution time: 00:00:00.003"
                    },
                    "metadata": {}
                }
            ],
            "execution_count": 18
        },
        {
            "cell_type": "code",
            "source": [
                "INSERT INTO BOOK (ISBN, FORMAT, PRICE, NAME) VALUES ('9780061120084', 'Paperback', 12, 'To Kill a Mockingbird');\r\n",
                "INSERT INTO BOOK (ISBN, FORMAT, PRICE, NAME) VALUES ('9781400052929', 'Ebook', 10, 'The Great Gatsby');\r\n",
                "INSERT INTO BOOK (ISBN, FORMAT, PRICE, NAME) VALUES ('9780743273561', 'Paperback', 15, 'The Catcher in the Rye');\r\n",
                "INSERT INTO BOOK (ISBN, FORMAT, PRICE, NAME) VALUES ('9780434009457', 'Hardcover', 30, 'Harry Potter and the Order of the Phoenix');\r\n",
                "INSERT INTO BOOK (ISBN, FORMAT, PRICE, NAME) VALUES ('9780679732761', 'Paperback', 18, '1984');\r\n",
                "INSERT INTO BOOK (ISBN, FORMAT, PRICE, NAME) VALUES ('9781402894624', 'Ebook', 8, 'Pride and Prejudice');"
            ],
            "metadata": {
                "language": "sql",
                "azdata_cell_guid": "b712a9f7-ec31-4355-b1ec-d3845da6b60e"
            },
            "outputs": [
                {
                    "output_type": "error",
                    "evalue": "Msg 2628, Level 16, State 1, Line 1\r\nString or binary data would be truncated in table 'assinment14.dbo.BOOK', column 'FORMAT'. Truncated value: 'P'.",
                    "ename": "",
                    "traceback": []
                },
                {
                    "output_type": "display_data",
                    "data": {
                        "text/html": "The statement has been terminated."
                    },
                    "metadata": {}
                },
                {
                    "output_type": "error",
                    "evalue": "Msg 2628, Level 16, State 1, Line 2\r\nString or binary data would be truncated in table 'assinment14.dbo.BOOK', column 'FORMAT'. Truncated value: 'E'.",
                    "ename": "",
                    "traceback": []
                },
                {
                    "output_type": "display_data",
                    "data": {
                        "text/html": "The statement has been terminated."
                    },
                    "metadata": {}
                },
                {
                    "output_type": "error",
                    "evalue": "Msg 2628, Level 16, State 1, Line 3\r\nString or binary data would be truncated in table 'assinment14.dbo.BOOK', column 'FORMAT'. Truncated value: 'P'.",
                    "ename": "",
                    "traceback": []
                },
                {
                    "output_type": "display_data",
                    "data": {
                        "text/html": "The statement has been terminated."
                    },
                    "metadata": {}
                },
                {
                    "output_type": "error",
                    "evalue": "Msg 2628, Level 16, State 1, Line 4\r\nString or binary data would be truncated in table 'assinment14.dbo.BOOK', column 'FORMAT'. Truncated value: 'H'.",
                    "ename": "",
                    "traceback": []
                },
                {
                    "output_type": "display_data",
                    "data": {
                        "text/html": "The statement has been terminated."
                    },
                    "metadata": {}
                },
                {
                    "output_type": "error",
                    "evalue": "Msg 2628, Level 16, State 1, Line 5\r\nString or binary data would be truncated in table 'assinment14.dbo.BOOK', column 'FORMAT'. Truncated value: 'P'.",
                    "ename": "",
                    "traceback": []
                },
                {
                    "output_type": "display_data",
                    "data": {
                        "text/html": "The statement has been terminated."
                    },
                    "metadata": {}
                },
                {
                    "output_type": "error",
                    "evalue": "Msg 2628, Level 16, State 1, Line 6\r\nString or binary data would be truncated in table 'assinment14.dbo.BOOK', column 'FORMAT'. Truncated value: 'E'.",
                    "ename": "",
                    "traceback": []
                },
                {
                    "output_type": "display_data",
                    "data": {
                        "text/html": "The statement has been terminated."
                    },
                    "metadata": {}
                },
                {
                    "output_type": "display_data",
                    "data": {
                        "text/html": "Total execution time: 00:00:00.025"
                    },
                    "metadata": {}
                }
            ],
            "execution_count": 17
        },
        {
            "cell_type": "code",
            "source": [
                "CREATE TABLE PUBLISHER(\r\n",
                "    ISBN VARCHAR(13) NOT NULL,\r\n",
                "    NAME VARCHAR(100) NOT NULL,\r\n",
                "    ADDRESS VARCHAR(100) NOT NULL,\r\n",
                "    WEBSITE VARCHAR(100) NOT NULL,\r\n",
                "    FOREIGN KEY (ISBN) REFERENCES BOOK(ISBN)\r\n",
                "\r\n",
                ")"
            ],
            "metadata": {
                "language": "sql",
                "azdata_cell_guid": "00d1e180-386c-4532-802e-7aaa73aead6e"
            },
            "outputs": [
                {
                    "output_type": "display_data",
                    "data": {
                        "text/html": "Commands completed successfully."
                    },
                    "metadata": {}
                },
                {
                    "output_type": "display_data",
                    "data": {
                        "text/html": "Total execution time: 00:00:00.004"
                    },
                    "metadata": {}
                }
            ],
            "execution_count": 14
        },
        {
            "cell_type": "code",
            "source": [
                "CREATE TABLE REVIEWERS(\r\n",
                "    REV_ID VARCHAR PRIMARY KEY,\r\n",
                "    NAEM VARCHAR(100) NOT NULL,\r\n",
                "    EMAIL VARCHAR(100) NOT NULL\r\n",
                ")"
            ],
            "metadata": {
                "language": "sql",
                "azdata_cell_guid": "fe42fb65-fe98-40e9-9c72-45980f9f1db0"
            },
            "outputs": [
                {
                    "output_type": "error",
                    "evalue": "Msg 2714, Level 16, State 6, Line 1\r\nThere is already an object named 'REVIEWERS' in the database.",
                    "ename": "",
                    "traceback": []
                },
                {
                    "output_type": "display_data",
                    "data": {
                        "text/html": "Total execution time: 00:00:00.001"
                    },
                    "metadata": {}
                }
            ],
            "execution_count": 15
        },
        {
            "cell_type": "code",
            "source": [
                "CREATE TABLE REVIEWS(\r\n",
                "    REV_ID VARCHAR NOT NULL,\r\n",
                "    REVIEW VARCHAR,\r\n",
                "    ISBN VARCHAR(13) NOT NULL,\r\n",
                "    FOREIGN KEY (ISBN) REFERENCES BOOK(ISBN)\r\n",
                ")"
            ],
            "metadata": {
                "language": "sql",
                "azdata_cell_guid": "5a47ec91-83f2-4616-b797-62e01721aa60"
            },
            "outputs": [
                {
                    "output_type": "display_data",
                    "data": {
                        "text/html": "Commands completed successfully."
                    },
                    "metadata": {}
                },
                {
                    "output_type": "display_data",
                    "data": {
                        "text/html": "Total execution time: 00:00:00.073"
                    },
                    "metadata": {}
                }
            ],
            "execution_count": 16
        }
    ]
}