{
    "metadata": {
        "kernelspec": {
            "name": "SQL",
            "display_name": "SQL",
            "language": "sql"
        },
        "language_info": {
            "name": "sql",
            "version": ""
        }
    },
    "nbformat_minor": 2,
    "nbformat": 4,
    "cells": [
        {
            "cell_type": "markdown",
            "source": [
                ""
            ],
            "metadata": {
                "language": "sql",
                "azdata_cell_guid": "4020072f-0f7f-46e4-993d-e7dcba844a6b"
            }
        },
        {
            "cell_type": "code",
            "source": [
                "CREATE DATABASE LIBRARY;\r\n",
                ""
            ],
            "metadata": {
                "azdata_cell_guid": "abf65b1a-2142-4abb-928c-6cb61758c3bb",
                "language": "sql"
            },
            "outputs": [
                {
                    "output_type": "display_data",
                    "data": {
                        "text/html": "Commands completed successfully."
                    },
                    "metadata": {}
                },
                {
                    "output_type": "display_data",
                    "data": {
                        "text/html": "Total execution time: 00:00:00.708"
                    },
                    "metadata": {}
                }
            ],
            "execution_count": 1
        },
        {
            "cell_type": "code",
            "source": [
                "USE LIBRARY;"
            ],
            "metadata": {
                "azdata_cell_guid": "c67c7383-1bfb-4912-ba3e-7563488794e2",
                "language": "sql"
            },
            "outputs": [
                {
                    "output_type": "display_data",
                    "data": {
                        "text/html": "Commands completed successfully."
                    },
                    "metadata": {}
                },
                {
                    "output_type": "display_data",
                    "data": {
                        "text/html": "Total execution time: 00:00:00.270"
                    },
                    "metadata": {}
                }
            ],
            "execution_count": 2
        },
        {
            "cell_type": "code",
            "source": [
                "DROP TABLE BOOKS;"
            ],
            "metadata": {
                "azdata_cell_guid": "2edde5b8-e962-4fb0-8b41-42b3b5411e6a",
                "language": "sql"
            },
            "outputs": [
                {
                    "output_type": "display_data",
                    "data": {
                        "text/html": "Commands completed successfully."
                    },
                    "metadata": {}
                },
                {
                    "output_type": "display_data",
                    "data": {
                        "text/html": "Total execution time: 00:00:00.049"
                    },
                    "metadata": {}
                }
            ],
            "execution_count": 11
        },
        {
            "cell_type": "code",
            "source": [
                "CREATE TABLE AUTHOR(\r\n",
                "    NAME VARCHAR(MAX) NOT NULL,\r\n",
                "    AID UNIQUEIDENTIFIER PRIMARY KEY\r\n",
                ")"
            ],
            "metadata": {
                "language": "sql",
                "azdata_cell_guid": "a159d900-e1a2-462c-b3e3-762a9c093668"
            },
            "outputs": [
                {
                    "output_type": "display_data",
                    "data": {
                        "text/html": "Commands completed successfully."
                    },
                    "metadata": {}
                },
                {
                    "output_type": "display_data",
                    "data": {
                        "text/html": "Total execution time: 00:00:00.078"
                    },
                    "metadata": {}
                }
            ],
            "execution_count": 13
        },
        {
            "cell_type": "code",
            "source": [
                "INSERT INTO \r\n",
                "    author (name, aid) \r\n",
                "VALUES \r\n",
                "    ('Amit Garg', NEWID()),\r\n",
                "    ('Lalit Kumar', NEWID()),\r\n",
                "    ('Sharad Kumar Verma', NEWID()),\r\n",
                "    ('chetan bhagat', NEWID()),\r\n",
                "    ('Amish Tripati', NEWID()),\r\n",
                "    ('Robert koyosaki', NEWID()),\r\n",
                "    ('Ravibelegere', NEWID())\r\n",
                ";"
            ],
            "metadata": {
                "language": "sql",
                "azdata_cell_guid": "c4b58344-cdec-44d8-9b4d-89f068c6bb79"
            },
            "outputs": [
                {
                    "output_type": "display_data",
                    "data": {
                        "text/html": "(7 rows affected)"
                    },
                    "metadata": {}
                },
                {
                    "output_type": "display_data",
                    "data": {
                        "text/html": "Total execution time: 00:00:00.073"
                    },
                    "metadata": {}
                }
            ],
            "execution_count": 16
        },
        {
            "cell_type": "code",
            "source": [
                "CREATE TABLE BOOKS(\r\n",
                "    ISBN VARCHAR(13) NOT NULL PRIMARY KEY,\r\n",
                "    TITLE VARCHAR(100) NOT NULL,\r\n",
                "    PRICE FLOAT DEFAULT(0) NOT NULL,\r\n",
                "    AID UNIQUEIDENTIFIER NOT NULL,\r\n",
                "    FOREIGN KEY (AID) REFERENCES AUTHOR(AID)\r\n",
                ")"
            ],
            "metadata": {
                "language": "sql",
                "azdata_cell_guid": "d48803f8-7d74-4b7e-97e6-13c1e3fd90b3"
            },
            "outputs": [
                {
                    "output_type": "display_data",
                    "data": {
                        "text/html": "Commands completed successfully."
                    },
                    "metadata": {}
                },
                {
                    "output_type": "display_data",
                    "data": {
                        "text/html": "Total execution time: 00:00:00.074"
                    },
                    "metadata": {}
                }
            ],
            "execution_count": 18
        },
        {
            "cell_type": "code",
            "source": [
                "INSERT INTO BOOKS\r\n",
                "    (ISBN,TITLE,PRICE,AID)\r\n",
                "VALUES\r\n",
                "    ('9781623651435','THE IMMORTAL OF MELUHA',250,'252ff8a6-f0ba-4f9a-8ffe-4c28fae33172'),\r\n",
                "    ('9789356290792','SCION OF IKSHVAKU',300,'252ff8a6-f0ba-4f9a-8ffe-4c28fae33172'),\r\n",
                "    ('9780307292049','THE HITCHHIKERS GUIDE TO THE GALAXY',1000,'f4cb28c0-171d-469a-b4da-6707f3d3e8a2'),\r\n",
                "    ('8129104598569','FIVE POINT SOMEONE',550,'69d70fb0-306e-4cbb-b0ec-6af877287f67'),\r\n",
                "    ('9788129135537','REVOLUTION 2020',600,'69d70fb0-306e-4cbb-b0ec-6af877287f67'),\r\n",
                "    ('9788129115300','2 STATES',450,'69d70fb0-306e-4cbb-b0ec-6af877287f67'),\r\n",
                "    ('9788129115355','MATAGATHI',230,'ade5bbee-f07d-4a81-acff-ae986f47a64b'),\r\n",
                "    ('9788129115356','SARPA SAMBANDHA',300,'ade5bbee-f07d-4a81-acff-ae986f47a64b');"
            ],
            "metadata": {
                "language": "sql",
                "azdata_cell_guid": "5341605c-5366-46db-8da5-b489a54c86a3"
            },
            "outputs": [
                {
                    "output_type": "display_data",
                    "data": {
                        "text/html": "(8 rows affected)"
                    },
                    "metadata": {}
                },
                {
                    "output_type": "display_data",
                    "data": {
                        "text/html": "Total execution time: 00:00:00.082"
                    },
                    "metadata": {}
                }
            ],
            "execution_count": 20
        },
        {
            "cell_type": "code",
            "source": [
                "CREATE TABLE USERS (\r\n",
                "    USERID UNIQUEIDENTIFIER PRIMARY KEY,\r\n",
                "    USER_NAME VARCHAR(MAX) NOT NULL\r\n",
                ");"
            ],
            "metadata": {
                "language": "sql",
                "azdata_cell_guid": "264afe22-1374-40b6-b4ba-f283378237da",
                "tags": []
            },
            "outputs": [
                {
                    "output_type": "display_data",
                    "data": {
                        "text/html": "Commands completed successfully."
                    },
                    "metadata": {}
                },
                {
                    "output_type": "display_data",
                    "data": {
                        "text/html": "Total execution time: 00:00:00.073"
                    },
                    "metadata": {}
                }
            ],
            "execution_count": 24
        },
        {
            "cell_type": "code",
            "source": [
                "INSERT INTO users (userid, user_name) VALUES\r\n",
                "(NEWID(), 'John Doe'),\r\n",
                "(NEWID(), 'Jane Doe'),\r\n",
                "(NEWID(), 'Peter Parker'),\r\n",
                "(NEWID(), 'Mary Jane Watson'),\r\n",
                "(NEWID(), 'Bruce Wayne'),\r\n",
                "(NEWID(), 'Clark Kent'),\r\n",
                "(NEWID(), 'Diana Prince'),\r\n",
                "(NEWID(), 'Arthur Curry'),\r\n",
                "(NEWID(), 'Barry Allen'),\r\n",
                "(NEWID(), 'Hal Jordan');\r\n",
                ""
            ],
            "metadata": {
                "language": "sql",
                "azdata_cell_guid": "128f7545-90ad-4f18-91cc-f395228a0780"
            },
            "outputs": [
                {
                    "output_type": "display_data",
                    "data": {
                        "text/html": "(10 rows affected)"
                    },
                    "metadata": {}
                },
                {
                    "output_type": "display_data",
                    "data": {
                        "text/html": "Total execution time: 00:00:00.078"
                    },
                    "metadata": {}
                }
            ],
            "execution_count": 25
        },
        {
            "cell_type": "code",
            "source": [
                "CREATE TABLE REVIEWS(\r\n",
                "    ISBN VARCHAR(13) NOT NULL,\r\n",
                "    COMMENT VARCHAR(MAX),\r\n",
                "    Ratings decimal(2,1),\r\n",
                "    USERID UNIQUEIDENTIFIER NOT NULL,\r\n",
                "    CONSTRAINT chk_Ratings CHECK (Ratings >= 0 AND Ratings <= 5),\r\n",
                "    FOREIGN KEY (ISBN) REFERENCES BOOKS(ISBN),\r\n",
                "    FOREIGN KEY (USERID) REFERENCES USERS(USERID)\r\n",
                "\r\n",
                ")"
            ],
            "metadata": {
                "language": "sql",
                "azdata_cell_guid": "f7789ee1-3a8c-4e0c-8290-27d3e12d34ed"
            },
            "outputs": [
                {
                    "output_type": "display_data",
                    "data": {
                        "text/html": "Commands completed successfully."
                    },
                    "metadata": {}
                },
                {
                    "output_type": "display_data",
                    "data": {
                        "text/html": "Total execution time: 00:00:00.011"
                    },
                    "metadata": {}
                }
            ],
            "execution_count": 27
        },
        {
            "cell_type": "code",
            "source": [
                "INSERT INTO REVIEWS\r\n",
                "    (ISBN,COMMENT,RATINGS,USERID)\r\n",
                "VALUES\r\n",
                "    ('9788129115356','Nice book full of Suspension',5,'41b88e8e-89ad-47f3-88ff-22d0bcbfaebd');"
            ],
            "metadata": {
                "language": "sql",
                "azdata_cell_guid": "e93666f6-aaf2-4e47-a2e4-030673f7abde"
            },
            "outputs": [
                {
                    "output_type": "display_data",
                    "data": {
                        "text/html": "(1 row affected)"
                    },
                    "metadata": {}
                },
                {
                    "output_type": "display_data",
                    "data": {
                        "text/html": "Total execution time: 00:00:00.080"
                    },
                    "metadata": {}
                }
            ],
            "execution_count": 28
        },
        {
            "cell_type": "code",
            "source": [
                "SELECT * FROM AUTHOR;"
            ],
            "metadata": {
                "language": "sql",
                "azdata_cell_guid": "e0184c0a-7547-4f6d-bbef-68db8e74fa45"
            },
            "outputs": [
                {
                    "output_type": "error",
                    "evalue": "Msg 208, Level 16, State 1, Line 1\r\nInvalid object name 'AUTHOR'.",
                    "ename": "",
                    "traceback": []
                },
                {
                    "output_type": "display_data",
                    "data": {
                        "text/html": "Total execution time: 00:00:00.001"
                    },
                    "metadata": {}
                }
            ],
            "execution_count": 3
        }
    ]
}