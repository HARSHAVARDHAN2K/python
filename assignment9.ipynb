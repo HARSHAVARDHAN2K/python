{
 "cells": [
  {
   "cell_type": "markdown",
   "metadata": {},
   "source": [
    "*** 1.FindPrimes to find all prime numbers in the list ***\n",
    "\n",
    "*** 2.FindEvens to find all the even numbers in the list ***"
   ]
  },
  {
   "cell_type": "code",
   "execution_count": 1,
   "metadata": {},
   "outputs": [],
   "source": [
    "class Node:\n",
    "    def __init__(self, value,next=None, previous=None):\n",
    "        self._value=value\n",
    "        self._next=next\n",
    "        self._previous=previous\n",
    "\n",
    "class LinkedList:\n",
    "    def __init__(self):\n",
    "        self._first=None\n",
    "\n",
    "    def append(self, value):\n",
    "        if self._first==None: # list is empty\n",
    "            self._first=Node(value)\n",
    "        else: # add to the end of a non-empty list\n",
    "            n=self._first\n",
    "            while n._next:\n",
    "                n=n._next\n",
    "            n._next=Node(value, previous=n)\n",
    "\n",
    "    def info(self):\n",
    "        if self._first==None: \n",
    "            return \"LinkedList(empty)\"\n",
    "        str=\"LinkedList(\\t\"\n",
    "        n=self._first\n",
    "        while n:\n",
    "            str+=f'{n._value}\\t'\n",
    "            n=n._next\n",
    "        str+=\")\"\n",
    "        return str\n",
    "\n",
    "    def size(self):\n",
    "        c=0\n",
    "        n=self._first\n",
    "        while n:\n",
    "            c+=1\n",
    "            n=n._next\n",
    "        return c    "
   ]
  },
  {
   "cell_type": "code",
   "execution_count": 4,
   "metadata": {},
   "outputs": [],
   "source": [
    "def loop(list,index):\n",
    "    count = 0\n",
    "    prev = list._first\n",
    "    cur = list._first\n",
    "    while count<index and cur:\n",
    "        prev = cur            \n",
    "        cur = cur._next                \n",
    "        count+=1\n",
    "    return [prev,cur]"
   ]
  },
  {
   "cell_type": "code",
   "execution_count": 2,
   "metadata": {},
   "outputs": [],
   "source": [
    "def isprime(n):\n",
    "    flag = 0\n",
    "    for i in range(2,int((n)/2+1)):\n",
    "        if n%i==0:\n",
    "            flag=1\n",
    "    if flag == 0:\n",
    "        return 1\n",
    "    else:\n",
    "        return 0\n",
    "\n",
    "\n",
    "def Findprime(list):\n",
    "    print(\"Prime\")\n",
    "    cur = list._first\n",
    "    prev = list._first\n",
    "    while cur._next:\n",
    "        prev = cur            \n",
    "        cur = cur._next      \n",
    "        data = cur._value\n",
    "        if(isprime(data) and data!=1 and data!=0):\n",
    "            print(data, end=\"\\t\")  \n",
    "\n",
    "def isEven(list):\n",
    "    print(\"\\nEVEN\")\n",
    "    cur = list._first\n",
    "    prev = list._first\n",
    "    while cur._next:\n",
    "        prev = cur            \n",
    "        cur = cur._next      \n",
    "        data = prev._value  \n",
    "        if data%2==0:\n",
    "            print(f'{data}',end=\"\\t\")"
   ]
  },
  {
   "cell_type": "code",
   "execution_count": 3,
   "metadata": {},
   "outputs": [
    {
     "name": "stdout",
     "output_type": "stream",
     "text": [
      "Prime\n",
      "2\t3\t5\t7\t11\t13\t17\t19\t\n",
      "EVEN\n",
      "0\t2\t4\t6\t8\t10\t12\t14\t16\t18\t"
     ]
    }
   ],
   "source": [
    "list1 = LinkedList()\n",
    "for i in range(20):\n",
    "    list1.append(i)\n",
    "Findprime(list1)\n",
    "\n",
    "isEven(list1)"
   ]
  },
  {
   "cell_type": "markdown",
   "metadata": {},
   "source": [
    "3. Consider a book object with following fields \n",
    "id \n",
    "\n",
    "title \n",
    "\n",
    "author \n",
    "\n",
    "price  \n",
    "\n",
    "rating \n",
    "\n",
    "4. Write Find Function to \n",
    "\n",
    "Find a  book by id \n",
    "\n",
    "Find all books by an author \n",
    "\n",
    "Find all books in rating range \n",
    "\n",
    "Find all books in price range \n",
    "\n",
    " "
   ]
  },
  {
   "cell_type": "code",
   "execution_count": null,
   "metadata": {},
   "outputs": [],
   "source": [
    "class BNode:\n",
    "    def __init__(self,id,title,author,price,rating,next=None, previous=None):\n",
    "        self._id = id\n",
    "        self._title = title\n",
    "        self._author = author\n",
    "        self._price = price\n",
    "        self._rating = rating\n",
    "        self._next=next\n",
    "        self._previous=previous\n",
    "    \n"
   ]
  },
  {
   "cell_type": "code",
   "execution_count": null,
   "metadata": {},
   "outputs": [],
   "source": [
    "class BookLinkedList:\n",
    "    def __init__(self):\n",
    "        self._first=None\n",
    "\n",
    "    def append(self,id,title,author,price,rating):\n",
    "        if self._first==None: # list is empty\n",
    "            self._first=BNode(id,title,author,price,rating)\n",
    "        else: # add to the end of a non-empty list\n",
    "            n=self._first\n",
    "            while n._next:\n",
    "                n=n._next\n",
    "            n._next=BNode(id,title,author,price,rating, previous=n)\n",
    "\n",
    "    def info(self):\n",
    "        if self._first==None: \n",
    "            return \"LinkedList(empty)\"\n",
    "        str=\"LinkedList(\\t\"\n",
    "        n=self._first\n",
    "        while n:\n",
    "            str+=f'{n._title}\\t'\n",
    "            n=n._next\n",
    "        str+=\")\"\n",
    "        return str\n",
    "\n",
    "    def size(self):\n",
    "        c=0\n",
    "        n=self._first\n",
    "        while n:\n",
    "            c+=1\n",
    "            n=n._next\n",
    "        return c\n",
    "            "
   ]
  },
  {
   "cell_type": "code",
   "execution_count": null,
   "metadata": {},
   "outputs": [],
   "source": [
    "def findByID(list,id):\n",
    "    cur = list._first\n",
    "    prev = list._first\n",
    "    while cur._next:\n",
    "        prev = cur            \n",
    "        cur = cur._next      \n",
    "        data = cur._id\n",
    "        if data==id:\n",
    "            print(f'{cur._title}',end=\"\\t\")\n",
    "            break"
   ]
  },
  {
   "cell_type": "code",
   "execution_count": null,
   "metadata": {},
   "outputs": [],
   "source": [
    "def findByauthor(list,author):\n",
    "    print(author)\n",
    "    cur = list._first\n",
    "    prev = list._first\n",
    "    while cur:\n",
    "        prev = cur            \n",
    "            \n",
    "        data = cur._author\n",
    "        print(data)\n",
    "        if data==author:\n",
    "            print(f'{cur._title}',end=\"\\t\")"
   ]
  },
  {
   "cell_type": "code",
   "execution_count": null,
   "metadata": {},
   "outputs": [],
   "source": [
    "def findByRating(list,rating):\n",
    "    cur = list._first\n",
    "    prev = list._first\n",
    "    while cur._next:\n",
    "        prev = cur            \n",
    "        cur = cur._next      \n",
    "        data = cur._rating\n",
    "        if data==rating:\n",
    "            \n",
    "            print(f'{cur._title}',end=\"\\t\")"
   ]
  },
  {
   "cell_type": "code",
   "execution_count": null,
   "metadata": {},
   "outputs": [],
   "source": [
    "def findByPrice(list,min,max):\n",
    "    cur = list._first\n",
    "    prev = list._first\n",
    "    while cur._next:\n",
    "        prev = cur            \n",
    "        cur = cur._next      \n",
    "        data = cur._price\n",
    "        if data<max and data>min:\n",
    "            print(f'{cur._title}',end=\"\\t\")"
   ]
  }
 ],
 "metadata": {
  "kernelspec": {
   "display_name": "Python 3",
   "language": "python",
   "name": "python3"
  },
  "language_info": {
   "codemirror_mode": {
    "name": "ipython",
    "version": 3
   },
   "file_extension": ".py",
   "mimetype": "text/x-python",
   "name": "python",
   "nbconvert_exporter": "python",
   "pygments_lexer": "ipython3",
   "version": "3.11.5"
  },
  "orig_nbformat": 4
 },
 "nbformat": 4,
 "nbformat_minor": 2
}
