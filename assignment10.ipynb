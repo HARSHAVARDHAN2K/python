{
 "cells": [
  {
   "cell_type": "code",
   "execution_count": 1,
   "metadata": {},
   "outputs": [
    {
     "name": "stdout",
     "output_type": "stream",
     "text": [
      "2 3 5 7 11 13 17 19 23 29 \n",
      "\n",
      "11\n",
      "13\n",
      "17\n",
      "19\n"
     ]
    }
   ],
   "source": [
    "def is_prime_num(num):\n",
    "    if num <= 1:\n",
    "        return False\n",
    "    for i in range(2, int(num**0.5) + 1):\n",
    "        if num % i == 0:\n",
    "            return False\n",
    "    return True\n",
    "\n",
    "def generate_prime_numbers_in_range(start, end):\n",
    "    current_num = start\n",
    "    while current_num <= end:\n",
    "        if is_prime_num(current_num):\n",
    "            yield current_num\n",
    "        current_num += 1\n",
    "\n",
    "def list_prime_numbers_in_range(start, end=None):\n",
    "    return generate_prime_numbers_in_range(start, end)\n",
    "\n",
    "for prime_num in list_prime_numbers_in_range(1, 30):\n",
    "    print(prime_num, end=' ')\n",
    "\n",
    "print('\\n')\n",
    "\n",
    "try:\n",
    "    primes_list = list_prime_numbers_in_range(10, 20)\n",
    "    prime_iterator = iter(primes_list)\n",
    "    for _ in range(5):\n",
    "        print(next(prime_iterator))\n",
    "except StopIteration:\n",
    "    pass"
   ]
  }
 ],
 "metadata": {
  "kernelspec": {
   "display_name": "Python 3",
   "language": "python",
   "name": "python3"
  },
  "language_info": {
   "codemirror_mode": {
    "name": "ipython",
    "version": 3
   },
   "file_extension": ".py",
   "mimetype": "text/x-python",
   "name": "python",
   "nbconvert_exporter": "python",
   "pygments_lexer": "ipython3",
   "version": "3.11.5"
  },
  "orig_nbformat": 4
 },
 "nbformat": 4,
 "nbformat_minor": 2
}
